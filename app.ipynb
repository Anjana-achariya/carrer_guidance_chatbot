{
 "cells": [
  {
   "cell_type": "code",
   "execution_count": 2,
   "id": "d1c707d0",
   "metadata": {},
   "outputs": [
    {
     "name": "stderr",
     "output_type": "stream",
     "text": [
      "[nltk_data] Downloading package stopwords to\n",
      "[nltk_data]     C:\\Users\\anjan\\AppData\\Roaming\\nltk_data...\n",
      "[nltk_data]   Package stopwords is already up-to-date!\n",
      "[nltk_data] Downloading package punkt to\n",
      "[nltk_data]     C:\\Users\\anjan\\AppData\\Roaming\\nltk_data...\n",
      "[nltk_data]   Package punkt is already up-to-date!\n"
     ]
    }
   ],
   "source": [
    "from functions import preprocess,extract_file,predict_roles"
   ]
  },
  {
   "cell_type": "code",
   "execution_count": 3,
   "id": "e5b84cc6",
   "metadata": {},
   "outputs": [],
   "source": [
    "import streamlit as st"
   ]
  },
  {
   "cell_type": "code",
   "execution_count": 4,
   "id": "936d8007",
   "metadata": {},
   "outputs": [],
   "source": [
    "import json\n",
    "import joblib"
   ]
  },
  {
   "cell_type": "code",
   "execution_count": null,
   "id": "1c1a3ec2",
   "metadata": {},
   "outputs": [],
   "source": [
    "le = joblib.load(\"encoder.pkl\")\n",
    "\n",
    "with open(\"nbmodel.pkl\",\"rb\") as f:\n",
    "  model_nb = joblib.load(f)\n",
    "\n",
    "with open(\"vectorizer.pkl\",\"rb\") as f:\n",
    "  tf_idf = joblib.load(f)\n",
    "\n",
    "with open(\"skills.json\",\"r\") as f:\n",
    "  skills = json.load(f)\n",
    "  \n",
    "st.title(\"carrer guidance chatbot\")\n",
    "\n",
    "uploaded_file = st.file_uploader(\"upload your resume \" , type =[\"pdf \", \"doc\" ,\"docx\"])\n",
    "if uploaded_file is not None:\n",
    "  resume_text = extract_file(uploaded_file)\n",
    "  preprocessed_text = preprocess(resume_text)\n",
    "\n",
    "  top_roles = predict_roles(model_nb,tf_idf,preprocessed_text)\n",
    "  decoded_roles = {le.inverse_transform([int(role)])[0]: prob for role, prob in top_roles.items()}  \n",
    "\n",
    "  st.subheader(\" top 5 role suggestions:\")\n",
    "\n",
    "  for role,prob in decoded_roles.items():\n",
    "    st.write(f\"{role} ({prob*100:.2f}%)\")\n",
    "\n",
    "  selected_role = st.selectbox(\"Do you want to see required skills for the roles?\" , \n",
    "                               list(decoded_roles.keys()))\n",
    "\n",
    "\n",
    "  if selected_role:\n",
    "    required_skills = skills.get(selected_role,[])\n",
    "    st.write(f\"**Skills for {selected_role}:**\")\n",
    "    st.write(\", \".join(required_skills) if required_skills else \"No skill data available.\")"
   ]
  },
  {
   "cell_type": "code",
   "execution_count": null,
   "id": "bf7a20ec",
   "metadata": {},
   "outputs": [],
   "source": []
  }
 ],
 "metadata": {
  "kernelspec": {
   "display_name": ".cg",
   "language": "python",
   "name": "python3"
  },
  "language_info": {
   "codemirror_mode": {
    "name": "ipython",
    "version": 3
   },
   "file_extension": ".py",
   "mimetype": "text/x-python",
   "name": "python",
   "nbconvert_exporter": "python",
   "pygments_lexer": "ipython3",
   "version": "3.12.10"
  }
 },
 "nbformat": 4,
 "nbformat_minor": 5
}
