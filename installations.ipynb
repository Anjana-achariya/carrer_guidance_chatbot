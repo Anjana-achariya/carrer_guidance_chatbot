{
 "cells": [
  {
   "cell_type": "markdown",
   "id": "3766f106",
   "metadata": {},
   "source": [
    "pip install kagglehub\n",
    "pip install pandas numpy seaborn matplotlib \n",
    "pip install scikit-learn\n",
    "pip install nltk\n",
    "pip install PyMuPDF\n",
    "pip install docxtxt\n",
    "pip install textract\n",
    "pip install streamlit"
   ]
  },
  {
   "cell_type": "markdown",
   "id": "89d27df8",
   "metadata": {},
   "source": [
    "import kagglehub\n",
    "import pandas as pd\n",
    "import os\n",
    "import re\n",
    "import nltk\n",
    "nltk.download(\"stopwords\")\n",
    "nltk.download(\"punkt\")\n",
    "from nltk.corpus import stopwords\n",
    "from sklearn.preprocessing import LabelEncoder\n",
    "import joblib\n",
    "from sklearn.model_selection import train_test_split\n",
    "from sklearn.feature_extraction.text import TfidfVectorizer\n",
    "from sklearn.naive_bayes import MultinomialNB\n",
    "from sklearn.metrics import classification_report\n",
    "import json"
   ]
  },
  {
   "cell_type": "code",
   "execution_count": null,
   "id": "430b6f9d",
   "metadata": {},
   "outputs": [],
   "source": []
  },
  {
   "cell_type": "markdown",
   "id": "6ee6c870",
   "metadata": {},
   "source": [
    "<!-- # Downgrade pip to below 24.1 using the correct Python executable\n",
    "!C:\\Users\\anjan\\OneDrive\\Desktop\\carrer_guidance\\.cg\\Scripts\\python.exe -m pip install \"pip<24.1\"\n",
    "\n",
    "# Now install textract\n",
    "!pip install textract -->"
   ]
  },
  {
   "cell_type": "code",
   "execution_count": null,
   "id": "8cfe204f",
   "metadata": {},
   "outputs": [],
   "source": []
  }
 ],
 "metadata": {
  "kernelspec": {
   "display_name": ".cg",
   "language": "python",
   "name": "python3"
  },
  "language_info": {
   "codemirror_mode": {
    "name": "ipython",
    "version": 3
   },
   "file_extension": ".py",
   "mimetype": "text/x-python",
   "name": "python",
   "nbconvert_exporter": "python",
   "pygments_lexer": "ipython3",
   "version": "3.12.10"
  }
 },
 "nbformat": 4,
 "nbformat_minor": 5
}
